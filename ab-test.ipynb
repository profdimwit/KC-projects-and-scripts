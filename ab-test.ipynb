{
 "cells": [
  {
   "cell_type": "code",
   "execution_count": 2,
   "id": "86eb93ff-6fe5-49bc-9c4f-80aae61a4ab7",
   "metadata": {},
   "outputs": [],
   "source": [
    "import pandahouse\n",
    "import pandas as pd\n",
    "import numpy as np\n",
    "from scipy import stats\n",
    "import hashlib\n",
    "import seaborn as sns\n",
    "import matplotlib.pyplot as plt\n",
    "%matplotlib inline"
   ]
  },
  {
   "cell_type": "code",
   "execution_count": 3,
   "id": "ab325534-a305-4558-9c01-371a6196b7ce",
   "metadata": {},
   "outputs": [],
   "source": [
    "connection = {\n",
    "    'host': 'https://clickhouse.lab.karpov.courses',\n",
    "    'password': 'dpo_python_2020',\n",
    "    'user': 'student',\n",
    "    'database': 'simulator_20220520'\n",
    "}"
   ]
  },
  {
   "cell_type": "code",
   "execution_count": 4,
   "id": "871efc38-03c3-4c82-9f9b-c809bfe970a1",
   "metadata": {},
   "outputs": [],
   "source": [
    "# Запрос данных по двум контрольным группам (2 и 3). \n",
    "# При эксперименте в 2 был использован один из новых алгоритмов рекомендации постов, группа 1 использовалась в качестве контроля\n",
    "# Даты эксперимента: с 2022-04-24 по 2022-04-30. Мы здесь запрашиваем период с '2022-04-17' по '2022-04-23'\n",
    "\n",
    "q = \"\"\"\n",
    "SELECT exp_group, \n",
    "    user_id,\n",
    "    sum(action = 'like') as likes,\n",
    "    sum(action = 'view') as views,\n",
    "    likes/views as ctr\n",
    "FROM {db}.feed_actions \n",
    "WHERE toDate(time) between '2022-04-17' and '2022-04-23'\n",
    "    and exp_group in (2,3)\n",
    "GROUP BY exp_group, user_id\n",
    "\"\"\"\n",
    "test_df = pandahouse.read_clickhouse(q, connection=connection)\n"
   ]
  },
  {
   "cell_type": "code",
   "execution_count": 9,
   "id": "82c36984-f022-490f-9b7c-a0c628fc74db",
   "metadata": {},
   "outputs": [
    {
     "name": "stdout",
     "output_type": "stream",
     "text": [
      "В 94.82 % случаев значимых различий не выявлено\n"
     ]
    }
   ],
   "source": [
    "# Возьмем из каждой выборки по 500 наблюдений и сделаем локальный t-test. В результате посмотрим в скольки из 10,000 повторений будет обнаружена разница в подвыборках. Также сохраним все наши p-values\n",
    "\n",
    "p_value = .05\n",
    "intersample_results = 0\n",
    "pvalue_list = []\n",
    "\n",
    "for _ in range(10000):\n",
    "    subsample_2 = test_df[test_df.exp_group == 2].ctr.sample(500, replace=True).tolist()\n",
    "    subsample_3 = test_df[test_df.exp_group == 3].ctr.sample(500, replace=True).tolist()\n",
    "    results = stats.ttest_ind(subsample_2,\n",
    "                subsample_3,\n",
    "                equal_var=False)\n",
    "    intersample_results += (results.pvalue > p_value)\n",
    "    pvalue_list.append(results.pvalue)\n",
    "\n",
    "print('В', intersample_results/100, '% случаев значимых различий не выявлено')"
   ]
  },
  {
   "cell_type": "code",
   "execution_count": 13,
   "id": "1cbe1b2a-4cba-4659-adf3-e90b2d19548f",
   "metadata": {},
   "outputs": [
    {
     "data": {
      "image/png": "[encoded data removed]",
      "text/plain": [
       "<Figure size 432x288 with 1 Axes>"
      ]
     },
     "metadata": {
      "needs_background": "light"
     },
     "output_type": "display_data"
    }
   ],
   "source": [
    "# Построим гистограмму с получившимися p-values\n",
    "groups = sns.histplot(data = pvalue_list,\n",
    "              alpha=0.5,\n",
    "              kde=False,\n",
    "              bins=50)"
   ]
  },
  {
   "cell_type": "markdown",
   "id": "36fcb14a-1f15-4c7d-a41c-20539643bfae",
   "metadata": {},
   "source": [
    "Как видно, распределение получившихся p-values близко в равномерному, т.е. присутствуют значения близкие к 0. Т.к. наш уровень значимости 0.05, в 5% случаев тест должен давать результат о различии в выборках.\n",
    "Расчеты подтверждают, что ~95% сравнений подвыборок значимых различий не обнаруживается."
   ]
  },
  {
   "cell_type": "markdown",
   "id": "f3fc2eb2-d0d4-461c-9c04-a2a82c63159e",
   "metadata": {},
   "source": [
    "-------"
   ]
  },
  {
   "cell_type": "code",
   "execution_count": 15,
   "id": "6338f53d-ba5f-4399-bb00-4a0ebb7f35b1",
   "metadata": {},
   "outputs": [],
   "source": [
    "# Запрос данных по экспериментальной (2) и контрольной группам (1). \n",
    "# Даты эксперимента: с 2022-04-24 по 2022-04-30\n",
    "q = \"\"\"\n",
    "SELECT exp_group, \n",
    "    user_id,\n",
    "    sum(action = 'like') as likes,\n",
    "    sum(action = 'view') as views,\n",
    "    likes/views as ctr\n",
    "FROM {db}.feed_actions \n",
    "WHERE toDate(time) between '2022-04-24' and '2022-04-30'\n",
    "    and exp_group in (1,2)\n",
    "GROUP BY exp_group, user_id\n",
    "\"\"\"\n",
    "ab_test_df = pandahouse.read_clickhouse(q, connection=connection)"
   ]
  },
  {
   "cell_type": "code",
   "execution_count": 18,
   "id": "64ae2c4f-2c4f-4f49-af48-40894a52166c",
   "metadata": {},
   "outputs": [
    {
     "data": {
      "image/png": "[encoded data removed]",
      "text/plain": [
       "<Figure size 842.4x595.44 with 1 Axes>"
      ]
     },
     "metadata": {},
     "output_type": "display_data"
    }
   ],
   "source": [
    "# Построим гистограммы и визуально сравним получившиеся ctr между двумя группами\n",
    "sns.set(rc={'figure.figsize':(11.7,8.27)})\n",
    "\n",
    "groups = sns.histplot(data = ab_test_df, \n",
    "              x='ctr', \n",
    "              hue='exp_group', \n",
    "              palette = ['r', 'b'],\n",
    "              alpha=0.5,\n",
    "              kde=False)"
   ]
  },
  {
   "cell_type": "markdown",
   "id": "e177b065-ccdd-4505-8906-a685f9cc6843",
   "metadata": {},
   "source": [
    "В тестовой группе произошла сегментация пользователей: две группы пользователей отреагировали по разному на новую рекомендательную систему. \n",
    "Видно, что распределение имеет два пика, одна часть пользоваталей теперь с меньшей вероятностью будут кликать при просмотре, другой части пользоваталей рекомендательная система понравилась (ctr выше)."
   ]
  },
  {
   "cell_type": "code",
   "execution_count": 19,
   "id": "3f5ff04c-3cc8-422f-b17c-aea350e139a7",
   "metadata": {},
   "outputs": [
    {
     "name": "stdout",
     "output_type": "stream",
     "text": [
      "MannwhitneyuResult(statistic=56601260.5, pvalue=6.0376484617779035e-56)\n"
     ]
    }
   ],
   "source": [
    "# Т.к. распределение далеко от нормалного, сравним результаты статистически при помощи теста Mann-Witney\n",
    "print(stats.mannwhitneyu(ab_test_df[ab_test_df.exp_group == 1].ctr,\n",
    "                ab_test_df[ab_test_df.exp_group == 2].ctr, \n",
    "                alternative = 'two-sided'))"
   ]
  },
  {
   "cell_type": "code",
   "execution_count": 20,
   "id": "a5a4887a-d503-4088-ae56-7356f94f9ee7",
   "metadata": {},
   "outputs": [],
   "source": [
    "# Попробуем посчитать сглаженный CTR. Ситуацию это не исправит, но сможем быть более уверенными в том, что на данные не влияют выборосы с небольшим количеством просмотров.\n",
    "def get_smothed_ctr(user_likes, user_views, global_ctr, alpha):\n",
    "    smothed_ctr = (user_likes + alpha * global_ctr) / (user_views + alpha)\n",
    "    return smothed_ctr\n",
    "\n",
    "global_ctr_1 = ab_test_df[ab_test_df.exp_group == 1].likes.sum()/ab_test_df[ab_test_df.exp_group == 1].views.sum()\n",
    "global_ctr_2 = ab_test_df[ab_test_df.exp_group == 2].likes.sum()/ab_test_df[ab_test_df.exp_group == 2].views.sum()\n",
    "\n",
    "group1 = ab_test_df[ab_test_df.exp_group == 1].copy()\n",
    "group2 = ab_test_df[ab_test_df.exp_group == 2].copy()\n",
    "\n",
    "group1['smothed_ctr'] = ab_test_df.apply(\n",
    "    lambda x: get_smothed_ctr(x['likes'], x['views'], global_ctr_1, 5), axis=1)\n",
    "group2['smothed_ctr'] = ab_test_df.apply(\n",
    "    lambda x: get_smothed_ctr(x['likes'], x['views'], global_ctr_2, 5), axis=1)\n",
    "ab_test_df_smooth = pd.concat([group1, group2]).reset_index(drop=True)"
   ]
  },
  {
   "cell_type": "code",
   "execution_count": 21,
   "id": "fb5f2517-2a3d-46e7-adc3-8c0233ce9ee9",
   "metadata": {},
   "outputs": [
    {
     "data": {
      "image/png": "[encoded data removed]",
      "text/plain": [
       "<Figure size 842.4x595.44 with 1 Axes>"
      ]
     },
     "metadata": {},
     "output_type": "display_data"
    }
   ],
   "source": [
    "groups = sns.histplot(data = ab_test_df_smooth, \n",
    "              x='smothed_ctr', \n",
    "              hue = 'exp_group',\n",
    "              palette = ['r', 'b'],\n",
    "              alpha=0.5,\n",
    "              kde=False)"
   ]
  },
  {
   "cell_type": "code",
   "execution_count": 22,
   "id": "a76546a2-15e4-47f0-bc13-2eb666c80f83",
   "metadata": {},
   "outputs": [
    {
     "data": {
      "text/plain": [
       "0.43508842443729906"
      ]
     },
     "execution_count": 22,
     "metadata": {},
     "output_type": "execute_result"
    }
   ],
   "source": [
    "# Доля пользователей, которым понравилась новая рекомендательная система\n",
    "(ab_test_df[ab_test_df.exp_group == 2].ctr > ab_test_df[ab_test_df.exp_group == 1].ctr.mean()).sum() / len(ab_test_df[ab_test_df.exp_group == 2].ctr)"
   ]
  },
  {
   "cell_type": "markdown",
   "id": "a2a0c2f7-d165-4309-a604-2440a14f31ad",
   "metadata": {},
   "source": [
    "Видно, что новая рекомендательная система действительно повлияла на поведение пользователей, однако общий уровень ctr мы значимо увеличить не смогли. \n",
    "Для части пользователей активность (ctr) возрасла, для другой - снизилась. Вероятно, в нашем сервисе есть две категории пользователей с различными поведенческими паттернами, что требует дальнейшего исследования и выявление причин получившейся сегментации."
   ]
  },
  {
   "cell_type": "markdown",
   "id": "ca3a22e7-102b-4ec0-9554-9ebbd22fadb2",
   "metadata": {},
   "source": [
    "Рекомендация: новую рекомендательную систему в текущем виде для всех пользоваталей вводить не стоит, однако можно предусмотреть возможность выбора системы пользователями в настройках сервиса. Возможно также разработать функциональность по определению пользователей, для которых новая система будет более эффективной, при помощи ML-инструментов."
   ]
  },
  {
   "cell_type": "markdown",
   "id": "91064b71-5815-41c4-9a91-81fe50c57dac",
   "metadata": {},
   "source": [
    "---------------------------------------"
   ]
  },
  {
   "cell_type": "markdown",
   "id": "6be1dda1-e8bc-4ca5-869e-e8660e178b6d",
   "metadata": {},
   "source": [
    "                            "
   ]
  },
  {
   "cell_type": "code",
   "execution_count": 24,
   "id": "499252d5-1e1b-4585-a130-0b1689a4f1b3",
   "metadata": {},
   "outputs": [
    {
     "data": {
      "text/plain": [
       "40079"
      ]
     },
     "execution_count": 24,
     "metadata": {},
     "output_type": "execute_result"
    }
   ],
   "source": [
    "# Попробуем новую метрику линеаризированных лайков от Яндекса\n",
    "# Будем сравнивать 0 и 3, и 1 и 2. Контрольные группы в каждой паре - 0 и 1\n",
    "q = \"\"\"\n",
    "SELECT exp_group, \n",
    "    user_id,\n",
    "    sum(action = 'like') as likes,\n",
    "    sum(action = 'view') as views,\n",
    "    likes/views as ctr\n",
    "FROM {db}.feed_actions \n",
    "WHERE toDate(time) between '2022-04-24' and '2022-04-30'\n",
    "    and exp_group in (0,1,2,3)\n",
    "GROUP BY exp_group, user_id\n",
    "\"\"\"\n",
    "df = pandahouse.read_clickhouse(q, connection=connection)"
   ]
  },
  {
   "cell_type": "code",
   "execution_count": 27,
   "id": "899ef093-5fa5-4f0f-b6de-c7111adaa9b1",
   "metadata": {},
   "outputs": [],
   "source": [
    "# Считаем общий CTR в контрольной группе\n",
    "global_ctr_0 = df[df.exp_group == 0].likes.sum()/df[df.exp_group == 0].views.sum()\n",
    "global_ctr_1 = df[df.exp_group == 1].likes.sum()/df[df.exp_group == 1].views.sum()"
   ]
  },
  {
   "cell_type": "code",
   "execution_count": 28,
   "id": "40148a75-6f21-4ede-8b3e-32c4dc5120d4",
   "metadata": {},
   "outputs": [],
   "source": [
    "# Посчитаем в обеих группах поюзерную метрику\n",
    "linear_likes_0 = df[df.exp_group == 0].likes - df[df.exp_group == 0].views*global_ctr_0\n",
    "linear_likes_1 = df[df.exp_group == 1].likes - df[df.exp_group == 1].views*global_ctr_1\n",
    "linear_likes_2 = df[df.exp_group == 2].likes - df[df.exp_group == 2].views*global_ctr_1\n",
    "linear_likes_3 = df[df.exp_group == 3].likes - df[df.exp_group == 3].views*global_ctr_0"
   ]
  },
  {
   "cell_type": "code",
   "execution_count": 31,
   "id": "630ae469-85bb-4667-bf49-4b26a017e22f",
   "metadata": {},
   "outputs": [
    {
     "data": {
      "image/png": "[encoded data removed]",
      "text/plain": [
       "<Figure size 842.4x595.44 with 1 Axes>"
      ]
     },
     "metadata": {},
     "output_type": "display_data"
    }
   ],
   "source": [
    "# Сравним распределения 0 и 3 групп\n",
    "plt.hist(linear_likes_0, \n",
    "         alpha=0.5, bins=50)\n",
    "plt.hist(linear_likes_3,\n",
    "         alpha=0.5, bins=50)\n",
    "plt.show()"
   ]
  },
  {
   "cell_type": "markdown",
   "id": "69d80287-3d30-4749-b669-b6d07ca4d510",
   "metadata": {},
   "source": [
    "Заметно смещенеие красной гистограммы (тестовая группа) вправо, т.к. по этой метрике также можем подтвердить эффективность нововведений"
   ]
  },
  {
   "cell_type": "code",
   "execution_count": 32,
   "id": "1e77722f-e82a-4419-a6f7-a5c3a0711e3c",
   "metadata": {},
   "outputs": [
    {
     "data": {
      "image/png": "[encoded data removed]",
      "text/plain": [
       "<Figure size 842.4x595.44 with 1 Axes>"
      ]
     },
     "metadata": {},
     "output_type": "display_data"
    }
   ],
   "source": [
    "# Сравним распределения 1 и 2 групп\n",
    "plt.hist(linear_likes_1, \n",
    "         alpha=0.5, bins=50)\n",
    "plt.hist(linear_likes_2,\n",
    "         alpha=0.5, bins=50)\n",
    "plt.show()"
   ]
  },
  {
   "cell_type": "markdown",
   "id": "38eadf05-df48-47a6-8548-2f2a22d25a75",
   "metadata": {},
   "source": [
    "Видно, что новая метрика также показывает наличие двух групп пользователей с разной реакцией на новую систему"
   ]
  },
  {
   "cell_type": "code",
   "execution_count": 37,
   "id": "13f23cca-8283-4a74-a008-b7db376cd9ab",
   "metadata": {},
   "outputs": [
    {
     "data": {
      "text/plain": [
       "MannwhitneyuResult(statistic=43338326.0, pvalue=1.1517315029786597e-63)"
      ]
     },
     "execution_count": 37,
     "metadata": {},
     "output_type": "execute_result"
    }
   ],
   "source": [
    "# Mann-Witney для 0 и 3 групп\n",
    "stats.mannwhitneyu(linear_likes_0,\n",
    "                   linear_likes_3,\n",
    "                   alternative = 'two-sided')"
   ]
  },
  {
   "cell_type": "code",
   "execution_count": 45,
   "id": "7cff1495-820e-44bd-b648-2b0c7f32da2a",
   "metadata": {},
   "outputs": [
    {
     "data": {
      "text/plain": [
       "Ttest_indResult(statistic=-15.214995460903827, pvalue=5.4914249479690016e-52)"
      ]
     },
     "execution_count": 45,
     "metadata": {},
     "output_type": "execute_result"
    }
   ],
   "source": [
    "# t-test для 0 и 3 групп\n",
    "stats.ttest_ind(linear_likes_0,\n",
    "                linear_likes_3,\n",
    "                equal_var=False)"
   ]
  },
  {
   "cell_type": "markdown",
   "id": "3ce4b9a5-8781-41a2-bdc6-255ce0d41710",
   "metadata": {},
   "source": [
    "Новая метрика подтверждает результаты A/B теста по простому CTR и в t-тесте и в тесте Манна-Уитни"
   ]
  },
  {
   "cell_type": "code",
   "execution_count": 46,
   "id": "515bec5b-3938-457e-9419-f6f79d9da645",
   "metadata": {},
   "outputs": [
    {
     "data": {
      "text/plain": [
       "MannwhitneyuResult(statistic=54534537.0, pvalue=9.404319579641738e-27)"
      ]
     },
     "execution_count": 46,
     "metadata": {},
     "output_type": "execute_result"
    }
   ],
   "source": [
    "# Mann-Witney для 1 и 2 групп\n",
    "stats.mannwhitneyu(linear_likes_1,\n",
    "                   linear_likes_2, \n",
    "                   alternative = 'two-sided')"
   ]
  },
  {
   "cell_type": "code",
   "execution_count": 47,
   "id": "dfa4894f-8f61-43ce-9c79-9ca7f0b541b3",
   "metadata": {},
   "outputs": [
    {
     "data": {
      "text/plain": [
       "Ttest_indResult(statistic=6.122579994775974, pvalue=9.439432187037644e-10)"
      ]
     },
     "execution_count": 47,
     "metadata": {},
     "output_type": "execute_result"
    }
   ],
   "source": [
    "# t-test для 1 и 2 групп\n",
    "stats.ttest_ind(linear_likes_1,\n",
    "                linear_likes_2,\n",
    "                equal_var=False)"
   ]
  },
  {
   "cell_type": "code",
   "execution_count": 48,
   "id": "8c7e1c07-bdf6-4608-83ee-e8a90fe3be03",
   "metadata": {},
   "outputs": [
    {
     "data": {
      "text/plain": [
       "Ttest_indResult(statistic=0.7094392041270485, pvalue=0.4780623130874935)"
      ]
     },
     "execution_count": 48,
     "metadata": {},
     "output_type": "execute_result"
    }
   ],
   "source": [
    "# t-test по CTR\n",
    "stats.ttest_ind(df[df.exp_group == 1].ctr,\n",
    "                df[df.exp_group == 2].ctr,\n",
    "                equal_var=False)"
   ]
  },
  {
   "cell_type": "markdown",
   "id": "a0756f17-664c-41d5-afc9-0ca1c8999ee8",
   "metadata": {},
   "source": [
    "Для 1 и 2 групп по новой метрике видны различия в t-тесте. Ту разницу в изменении поведении пользоваталей t-тест на CTR не уловил, однако по новой метрике она видна. Тест Манна-Уитни по прежнему фиксирует различия в выборках при высоком уровне значимости."
   ]
  },
  {
   "cell_type": "code",
   "execution_count": null,
   "id": "9984e644-0674-4821-bba2-1b513e218ebe",
   "metadata": {},
   "outputs": [],
   "source": []
  }
 ],
 "metadata": {
  "kernelspec": {
   "display_name": "Python 3 (ipykernel)",
   "language": "python",
   "name": "python3"
  },
  "language_info": {
   "codemirror_mode": {
    "name": "ipython",
    "version": 3
   },
   "file_extension": ".py",
   "mimetype": "text/x-python",
   "name": "python",
   "nbconvert_exporter": "python",
   "pygments_lexer": "ipython3",
   "version": "3.8.10"
  }
 },
 "nbformat": 4,
 "nbformat_minor": 5
}
